{
 "cells": [
  {
   "cell_type": "markdown",
   "metadata": {},
   "source": [
    "## EECS 731 Project 2: To be, or not to be\n",
    "\n",
    "In this project, I will be reading and performing classification on a [Shakespeare play dataset](https://www.kaggle.com/kingburrito666/shakespeare-plays). In particular, I will be testing to see how performance changes when feature subsets of the total dataset are used instead of the entire feature set.\n",
    "\n",
    "In addition to the above link, the dataset used in this project can be found in the data/raw/directory.\n",
    "\n",
    "### Python Imports"
   ]
  },
  {
   "cell_type": "code",
   "execution_count": 1,
   "metadata": {},
   "outputs": [],
   "source": [
    "import pandas as pd\n",
    "\n",
    "from sklearn import preprocessing\n",
    "from sklearn.model_selection import train_test_split\n",
    "from sklearn.metrics import accuracy_score\n",
    "\n",
    "from sklearn.naive_bayes import GaussianNB\n",
    "from sklearn import tree\n",
    "from sklearn.ensemble import RandomForestClassifier\n",
    "from sklearn.neural_network import MLPClassifier"
   ]
  },
  {
   "cell_type": "markdown",
   "metadata": {},
   "source": [
    "### Creating the Classification Models\n",
    "\n",
    "For all feature sets/subsets, I will be evaluating the performance of four different classification models:\n",
    "\n",
    "- Naive Bayes\n",
    "- Decision Tree\n",
    "- Random Forest\n",
    "- Neural Network (MLP)"
   ]
  },
  {
   "cell_type": "code",
   "execution_count": 2,
   "metadata": {},
   "outputs": [],
   "source": [
    "class_NaiveBayes = GaussianNB()\n",
    "class_DecisionTree = tree.DecisionTreeClassifier()\n",
    "class_RandomForest = RandomForestClassifier(max_depth=6)\n",
    "class_NeuralNetwork = MLPClassifier(max_iter=1000)"
   ]
  },
  {
   "cell_type": "markdown",
   "metadata": {},
   "source": [
    "## Base Case\n",
    "\n",
    "### Reading the Dataset\n",
    "\n",
    "For the base case, I read all of the dataset's features so that they can be used for training and testing. After loading the dataset, I remove all rows that contain empty values and any duplicate rows. For this step, I include the \"Player\" column with the dataset's features in order to ensure that all datasets have the same number of elements."
   ]
  },
  {
   "cell_type": "code",
   "execution_count": 3,
   "metadata": {},
   "outputs": [
    {
     "data": {
      "text/html": [
       "<div>\n",
       "<style scoped>\n",
       "    .dataframe tbody tr th:only-of-type {\n",
       "        vertical-align: middle;\n",
       "    }\n",
       "\n",
       "    .dataframe tbody tr th {\n",
       "        vertical-align: top;\n",
       "    }\n",
       "\n",
       "    .dataframe thead th {\n",
       "        text-align: right;\n",
       "    }\n",
       "</style>\n",
       "<table border=\"1\" class=\"dataframe\">\n",
       "  <thead>\n",
       "    <tr style=\"text-align: right;\">\n",
       "      <th></th>\n",
       "      <th>Play</th>\n",
       "      <th>ActSceneLine</th>\n",
       "      <th>PlayerLine</th>\n",
       "      <th>PlayerLinenumber</th>\n",
       "      <th>Player</th>\n",
       "    </tr>\n",
       "  </thead>\n",
       "  <tbody>\n",
       "    <tr>\n",
       "      <th>3</th>\n",
       "      <td>Henry IV</td>\n",
       "      <td>1.1.1</td>\n",
       "      <td>So shaken as we are, so wan with care,</td>\n",
       "      <td>1.0</td>\n",
       "      <td>KING HENRY IV</td>\n",
       "    </tr>\n",
       "    <tr>\n",
       "      <th>4</th>\n",
       "      <td>Henry IV</td>\n",
       "      <td>1.1.2</td>\n",
       "      <td>Find we a time for frighted peace to pant,</td>\n",
       "      <td>1.0</td>\n",
       "      <td>KING HENRY IV</td>\n",
       "    </tr>\n",
       "    <tr>\n",
       "      <th>5</th>\n",
       "      <td>Henry IV</td>\n",
       "      <td>1.1.3</td>\n",
       "      <td>And breathe short-winded accents of new broils</td>\n",
       "      <td>1.0</td>\n",
       "      <td>KING HENRY IV</td>\n",
       "    </tr>\n",
       "    <tr>\n",
       "      <th>6</th>\n",
       "      <td>Henry IV</td>\n",
       "      <td>1.1.4</td>\n",
       "      <td>To be commenced in strands afar remote.</td>\n",
       "      <td>1.0</td>\n",
       "      <td>KING HENRY IV</td>\n",
       "    </tr>\n",
       "    <tr>\n",
       "      <th>7</th>\n",
       "      <td>Henry IV</td>\n",
       "      <td>1.1.5</td>\n",
       "      <td>No more the thirsty entrance of this soil</td>\n",
       "      <td>1.0</td>\n",
       "      <td>KING HENRY IV</td>\n",
       "    </tr>\n",
       "    <tr>\n",
       "      <th>...</th>\n",
       "      <td>...</td>\n",
       "      <td>...</td>\n",
       "      <td>...</td>\n",
       "      <td>...</td>\n",
       "      <td>...</td>\n",
       "    </tr>\n",
       "    <tr>\n",
       "      <th>111390</th>\n",
       "      <td>A Winters Tale</td>\n",
       "      <td>5.3.179</td>\n",
       "      <td>Is troth-plight to your daughter. Good Paulina,</td>\n",
       "      <td>38.0</td>\n",
       "      <td>LEONTES</td>\n",
       "    </tr>\n",
       "    <tr>\n",
       "      <th>111391</th>\n",
       "      <td>A Winters Tale</td>\n",
       "      <td>5.3.180</td>\n",
       "      <td>Lead us from hence, where we may leisurely</td>\n",
       "      <td>38.0</td>\n",
       "      <td>LEONTES</td>\n",
       "    </tr>\n",
       "    <tr>\n",
       "      <th>111392</th>\n",
       "      <td>A Winters Tale</td>\n",
       "      <td>5.3.181</td>\n",
       "      <td>Each one demand an answer to his part</td>\n",
       "      <td>38.0</td>\n",
       "      <td>LEONTES</td>\n",
       "    </tr>\n",
       "    <tr>\n",
       "      <th>111393</th>\n",
       "      <td>A Winters Tale</td>\n",
       "      <td>5.3.182</td>\n",
       "      <td>Perform'd in this wide gap of time since first</td>\n",
       "      <td>38.0</td>\n",
       "      <td>LEONTES</td>\n",
       "    </tr>\n",
       "    <tr>\n",
       "      <th>111394</th>\n",
       "      <td>A Winters Tale</td>\n",
       "      <td>5.3.183</td>\n",
       "      <td>We were dissever'd: hastily lead away.</td>\n",
       "      <td>38.0</td>\n",
       "      <td>LEONTES</td>\n",
       "    </tr>\n",
       "  </tbody>\n",
       "</table>\n",
       "<p>105152 rows × 5 columns</p>\n",
       "</div>"
      ],
      "text/plain": [
       "                  Play ActSceneLine  \\\n",
       "3             Henry IV        1.1.1   \n",
       "4             Henry IV        1.1.2   \n",
       "5             Henry IV        1.1.3   \n",
       "6             Henry IV        1.1.4   \n",
       "7             Henry IV        1.1.5   \n",
       "...                ...          ...   \n",
       "111390  A Winters Tale      5.3.179   \n",
       "111391  A Winters Tale      5.3.180   \n",
       "111392  A Winters Tale      5.3.181   \n",
       "111393  A Winters Tale      5.3.182   \n",
       "111394  A Winters Tale      5.3.183   \n",
       "\n",
       "                                             PlayerLine  PlayerLinenumber  \\\n",
       "3                So shaken as we are, so wan with care,               1.0   \n",
       "4            Find we a time for frighted peace to pant,               1.0   \n",
       "5        And breathe short-winded accents of new broils               1.0   \n",
       "6               To be commenced in strands afar remote.               1.0   \n",
       "7             No more the thirsty entrance of this soil               1.0   \n",
       "...                                                 ...               ...   \n",
       "111390  Is troth-plight to your daughter. Good Paulina,              38.0   \n",
       "111391       Lead us from hence, where we may leisurely              38.0   \n",
       "111392            Each one demand an answer to his part              38.0   \n",
       "111393   Perform'd in this wide gap of time since first              38.0   \n",
       "111394           We were dissever'd: hastily lead away.              38.0   \n",
       "\n",
       "               Player  \n",
       "3       KING HENRY IV  \n",
       "4       KING HENRY IV  \n",
       "5       KING HENRY IV  \n",
       "6       KING HENRY IV  \n",
       "7       KING HENRY IV  \n",
       "...               ...  \n",
       "111390        LEONTES  \n",
       "111391        LEONTES  \n",
       "111392        LEONTES  \n",
       "111393        LEONTES  \n",
       "111394        LEONTES  \n",
       "\n",
       "[105152 rows x 5 columns]"
      ]
     },
     "execution_count": 3,
     "metadata": {},
     "output_type": "execute_result"
    }
   ],
   "source": [
    "player_dataset = pd.read_csv(\"../data/raw/Shakespeare_data.csv\")\n",
    "column_names = [\"Play\", \"ActSceneLine\", \"PlayerLine\", \"PlayerLinenumber\", \"Player\"]\n",
    "columns = player_dataset.loc[:,column_names].dropna()\n",
    "columns = columns.drop_duplicates()\n",
    "columns.to_csv(\"../data/processed/base-case.csv\")\n",
    "columns"
   ]
  },
  {
   "cell_type": "markdown",
   "metadata": {},
   "source": [
    "### Extracting the Features and Players"
   ]
  },
  {
   "cell_type": "code",
   "execution_count": 4,
   "metadata": {},
   "outputs": [
    {
     "data": {
      "text/html": [
       "<div>\n",
       "<style scoped>\n",
       "    .dataframe tbody tr th:only-of-type {\n",
       "        vertical-align: middle;\n",
       "    }\n",
       "\n",
       "    .dataframe tbody tr th {\n",
       "        vertical-align: top;\n",
       "    }\n",
       "\n",
       "    .dataframe thead th {\n",
       "        text-align: right;\n",
       "    }\n",
       "</style>\n",
       "<table border=\"1\" class=\"dataframe\">\n",
       "  <thead>\n",
       "    <tr style=\"text-align: right;\">\n",
       "      <th></th>\n",
       "      <th>Play</th>\n",
       "      <th>ActSceneLine</th>\n",
       "      <th>PlayerLine</th>\n",
       "      <th>PlayerLinenumber</th>\n",
       "    </tr>\n",
       "  </thead>\n",
       "  <tbody>\n",
       "    <tr>\n",
       "      <th>3</th>\n",
       "      <td>Henry IV</td>\n",
       "      <td>1.1.1</td>\n",
       "      <td>So shaken as we are, so wan with care,</td>\n",
       "      <td>1.0</td>\n",
       "    </tr>\n",
       "    <tr>\n",
       "      <th>4</th>\n",
       "      <td>Henry IV</td>\n",
       "      <td>1.1.2</td>\n",
       "      <td>Find we a time for frighted peace to pant,</td>\n",
       "      <td>1.0</td>\n",
       "    </tr>\n",
       "    <tr>\n",
       "      <th>5</th>\n",
       "      <td>Henry IV</td>\n",
       "      <td>1.1.3</td>\n",
       "      <td>And breathe short-winded accents of new broils</td>\n",
       "      <td>1.0</td>\n",
       "    </tr>\n",
       "    <tr>\n",
       "      <th>6</th>\n",
       "      <td>Henry IV</td>\n",
       "      <td>1.1.4</td>\n",
       "      <td>To be commenced in strands afar remote.</td>\n",
       "      <td>1.0</td>\n",
       "    </tr>\n",
       "    <tr>\n",
       "      <th>7</th>\n",
       "      <td>Henry IV</td>\n",
       "      <td>1.1.5</td>\n",
       "      <td>No more the thirsty entrance of this soil</td>\n",
       "      <td>1.0</td>\n",
       "    </tr>\n",
       "    <tr>\n",
       "      <th>...</th>\n",
       "      <td>...</td>\n",
       "      <td>...</td>\n",
       "      <td>...</td>\n",
       "      <td>...</td>\n",
       "    </tr>\n",
       "    <tr>\n",
       "      <th>111390</th>\n",
       "      <td>A Winters Tale</td>\n",
       "      <td>5.3.179</td>\n",
       "      <td>Is troth-plight to your daughter. Good Paulina,</td>\n",
       "      <td>38.0</td>\n",
       "    </tr>\n",
       "    <tr>\n",
       "      <th>111391</th>\n",
       "      <td>A Winters Tale</td>\n",
       "      <td>5.3.180</td>\n",
       "      <td>Lead us from hence, where we may leisurely</td>\n",
       "      <td>38.0</td>\n",
       "    </tr>\n",
       "    <tr>\n",
       "      <th>111392</th>\n",
       "      <td>A Winters Tale</td>\n",
       "      <td>5.3.181</td>\n",
       "      <td>Each one demand an answer to his part</td>\n",
       "      <td>38.0</td>\n",
       "    </tr>\n",
       "    <tr>\n",
       "      <th>111393</th>\n",
       "      <td>A Winters Tale</td>\n",
       "      <td>5.3.182</td>\n",
       "      <td>Perform'd in this wide gap of time since first</td>\n",
       "      <td>38.0</td>\n",
       "    </tr>\n",
       "    <tr>\n",
       "      <th>111394</th>\n",
       "      <td>A Winters Tale</td>\n",
       "      <td>5.3.183</td>\n",
       "      <td>We were dissever'd: hastily lead away.</td>\n",
       "      <td>38.0</td>\n",
       "    </tr>\n",
       "  </tbody>\n",
       "</table>\n",
       "<p>105152 rows × 4 columns</p>\n",
       "</div>"
      ],
      "text/plain": [
       "                  Play ActSceneLine  \\\n",
       "3             Henry IV        1.1.1   \n",
       "4             Henry IV        1.1.2   \n",
       "5             Henry IV        1.1.3   \n",
       "6             Henry IV        1.1.4   \n",
       "7             Henry IV        1.1.5   \n",
       "...                ...          ...   \n",
       "111390  A Winters Tale      5.3.179   \n",
       "111391  A Winters Tale      5.3.180   \n",
       "111392  A Winters Tale      5.3.181   \n",
       "111393  A Winters Tale      5.3.182   \n",
       "111394  A Winters Tale      5.3.183   \n",
       "\n",
       "                                             PlayerLine  PlayerLinenumber  \n",
       "3                So shaken as we are, so wan with care,               1.0  \n",
       "4            Find we a time for frighted peace to pant,               1.0  \n",
       "5        And breathe short-winded accents of new broils               1.0  \n",
       "6               To be commenced in strands afar remote.               1.0  \n",
       "7             No more the thirsty entrance of this soil               1.0  \n",
       "...                                                 ...               ...  \n",
       "111390  Is troth-plight to your daughter. Good Paulina,              38.0  \n",
       "111391       Lead us from hence, where we may leisurely              38.0  \n",
       "111392            Each one demand an answer to his part              38.0  \n",
       "111393   Perform'd in this wide gap of time since first              38.0  \n",
       "111394           We were dissever'd: hastily lead away.              38.0  \n",
       "\n",
       "[105152 rows x 4 columns]"
      ]
     },
     "execution_count": 4,
     "metadata": {},
     "output_type": "execute_result"
    }
   ],
   "source": [
    "feature_names = column_names[:-1]\n",
    "features = columns.loc[:,feature_names]\n",
    "features"
   ]
  },
  {
   "cell_type": "code",
   "execution_count": 5,
   "metadata": {},
   "outputs": [
    {
     "data": {
      "text/plain": [
       "3         KING HENRY IV\n",
       "4         KING HENRY IV\n",
       "5         KING HENRY IV\n",
       "6         KING HENRY IV\n",
       "7         KING HENRY IV\n",
       "              ...      \n",
       "111390          LEONTES\n",
       "111391          LEONTES\n",
       "111392          LEONTES\n",
       "111393          LEONTES\n",
       "111394          LEONTES\n",
       "Name: Player, Length: 105152, dtype: object"
      ]
     },
     "execution_count": 5,
     "metadata": {},
     "output_type": "execute_result"
    }
   ],
   "source": [
    "players_name = column_names[-1]\n",
    "players = columns.loc[:,players_name]\n",
    "players"
   ]
  },
  {
   "cell_type": "markdown",
   "metadata": {},
   "source": [
    "After I separate the features and decision, I perform label encoding on both datasets so that they are compatible with the classification models."
   ]
  },
  {
   "cell_type": "code",
   "execution_count": 6,
   "metadata": {},
   "outputs": [
    {
     "data": {
      "text/html": [
       "<div>\n",
       "<style scoped>\n",
       "    .dataframe tbody tr th:only-of-type {\n",
       "        vertical-align: middle;\n",
       "    }\n",
       "\n",
       "    .dataframe tbody tr th {\n",
       "        vertical-align: top;\n",
       "    }\n",
       "\n",
       "    .dataframe thead th {\n",
       "        text-align: right;\n",
       "    }\n",
       "</style>\n",
       "<table border=\"1\" class=\"dataframe\">\n",
       "  <thead>\n",
       "    <tr style=\"text-align: right;\">\n",
       "      <th></th>\n",
       "      <th>Play</th>\n",
       "      <th>ActSceneLine</th>\n",
       "      <th>PlayerLine</th>\n",
       "      <th>PlayerLinenumber</th>\n",
       "    </tr>\n",
       "  </thead>\n",
       "  <tbody>\n",
       "    <tr>\n",
       "      <th>3</th>\n",
       "      <td>9</td>\n",
       "      <td>324</td>\n",
       "      <td>60240</td>\n",
       "      <td>0</td>\n",
       "    </tr>\n",
       "    <tr>\n",
       "      <th>4</th>\n",
       "      <td>9</td>\n",
       "      <td>435</td>\n",
       "      <td>23568</td>\n",
       "      <td>0</td>\n",
       "    </tr>\n",
       "    <tr>\n",
       "      <th>5</th>\n",
       "      <td>9</td>\n",
       "      <td>546</td>\n",
       "      <td>4998</td>\n",
       "      <td>0</td>\n",
       "    </tr>\n",
       "    <tr>\n",
       "      <th>6</th>\n",
       "      <td>9</td>\n",
       "      <td>657</td>\n",
       "      <td>73793</td>\n",
       "      <td>0</td>\n",
       "    </tr>\n",
       "    <tr>\n",
       "      <th>7</th>\n",
       "      <td>9</td>\n",
       "      <td>768</td>\n",
       "      <td>48893</td>\n",
       "      <td>0</td>\n",
       "    </tr>\n",
       "    <tr>\n",
       "      <th>...</th>\n",
       "      <td>...</td>\n",
       "      <td>...</td>\n",
       "      <td>...</td>\n",
       "      <td>...</td>\n",
       "    </tr>\n",
       "    <tr>\n",
       "      <th>111390</th>\n",
       "      <td>2</td>\n",
       "      <td>14601</td>\n",
       "      <td>41329</td>\n",
       "      <td>37</td>\n",
       "    </tr>\n",
       "    <tr>\n",
       "      <th>111391</th>\n",
       "      <td>2</td>\n",
       "      <td>14603</td>\n",
       "      <td>42772</td>\n",
       "      <td>37</td>\n",
       "    </tr>\n",
       "    <tr>\n",
       "      <th>111392</th>\n",
       "      <td>2</td>\n",
       "      <td>14604</td>\n",
       "      <td>22110</td>\n",
       "      <td>37</td>\n",
       "    </tr>\n",
       "    <tr>\n",
       "      <th>111393</th>\n",
       "      <td>2</td>\n",
       "      <td>14605</td>\n",
       "      <td>55480</td>\n",
       "      <td>37</td>\n",
       "    </tr>\n",
       "    <tr>\n",
       "      <th>111394</th>\n",
       "      <td>2</td>\n",
       "      <td>14606</td>\n",
       "      <td>78872</td>\n",
       "      <td>37</td>\n",
       "    </tr>\n",
       "  </tbody>\n",
       "</table>\n",
       "<p>105152 rows × 4 columns</p>\n",
       "</div>"
      ],
      "text/plain": [
       "        Play  ActSceneLine  PlayerLine  PlayerLinenumber\n",
       "3          9           324       60240                 0\n",
       "4          9           435       23568                 0\n",
       "5          9           546        4998                 0\n",
       "6          9           657       73793                 0\n",
       "7          9           768       48893                 0\n",
       "...      ...           ...         ...               ...\n",
       "111390     2         14601       41329                37\n",
       "111391     2         14603       42772                37\n",
       "111392     2         14604       22110                37\n",
       "111393     2         14605       55480                37\n",
       "111394     2         14606       78872                37\n",
       "\n",
       "[105152 rows x 4 columns]"
      ]
     },
     "execution_count": 6,
     "metadata": {},
     "output_type": "execute_result"
    }
   ],
   "source": [
    "encoder = preprocessing.LabelEncoder()\n",
    "for f in feature_names:\n",
    "    features[f] = encoder.fit_transform(features[f])\n",
    "features"
   ]
  },
  {
   "cell_type": "code",
   "execution_count": 7,
   "metadata": {},
   "outputs": [
    {
     "data": {
      "text/plain": [
       "array([457, 457, 457, ..., 494, 494, 494])"
      ]
     },
     "execution_count": 7,
     "metadata": {},
     "output_type": "execute_result"
    }
   ],
   "source": [
    "players = encoder.fit_transform(players)\n",
    "players"
   ]
  },
  {
   "cell_type": "markdown",
   "metadata": {},
   "source": [
    "### Creating the Train and Test Sets"
   ]
  },
  {
   "cell_type": "code",
   "execution_count": 8,
   "metadata": {},
   "outputs": [],
   "source": [
    "features_train, features_test, players_train, players_test = train_test_split(features, players, test_size=0.50, random_state=0, shuffle=True)"
   ]
  },
  {
   "cell_type": "markdown",
   "metadata": {},
   "source": [
    "### Performing Classification"
   ]
  },
  {
   "cell_type": "code",
   "execution_count": 9,
   "metadata": {},
   "outputs": [
    {
     "name": "stdout",
     "output_type": "stream",
     "text": [
      "Naive Bayes Accuracy: 0.20\n",
      "Decision Tree Accuracy: 0.66\n",
      "Random Forest Accuracy: 0.18\n",
      "Neural Network Accuracy: 0.02\n"
     ]
    }
   ],
   "source": [
    "players_pred = class_NaiveBayes.fit(features_train, players_train).predict(features_test)\n",
    "print(\"Naive Bayes Accuracy: {:.2f}\".format(accuracy_score(players_test, players_pred)))\n",
    "\n",
    "players_pred = class_DecisionTree.fit(features_train, players_train).predict(features_test)\n",
    "print(\"Decision Tree Accuracy: {:.2f}\".format(accuracy_score(players_test, players_pred)))\n",
    "\n",
    "players_pred = class_RandomForest.fit(features_train, players_train).predict(features_test)\n",
    "print(\"Random Forest Accuracy: {:.2f}\".format(accuracy_score(players_test, players_pred)))\n",
    "\n",
    "players_pred = class_NeuralNetwork.fit(features_train, players_train).predict(features_test)\n",
    "print(\"Neural Network Accuracy: {:.2f}\".format(accuracy_score(players_test, players_pred)))"
   ]
  },
  {
   "cell_type": "markdown",
   "metadata": {},
   "source": [
    "For the base case, the Decision Tree classifier had the best performance. However, note that the Random Forest classifier was limited to a max depth of 6 in order to reduce computation time. If unlimited, the Random Forest classifier would most likely have similar, if not better, performance to the Decision Tree classifier (though it would take much longer to run)."
   ]
  },
  {
   "cell_type": "markdown",
   "metadata": {},
   "source": [
    "## Subset Case 1 - Play + ActSceneLine\n",
    "\n",
    "In the first feature subset, I only use the Play and ActSceneLine features from the original dataset. Note that the same general steps employed in the base case are also used for this subset case.\n",
    "\n",
    "### Reading the Dataset"
   ]
  },
  {
   "cell_type": "code",
   "execution_count": 10,
   "metadata": {},
   "outputs": [
    {
     "data": {
      "text/html": [
       "<div>\n",
       "<style scoped>\n",
       "    .dataframe tbody tr th:only-of-type {\n",
       "        vertical-align: middle;\n",
       "    }\n",
       "\n",
       "    .dataframe tbody tr th {\n",
       "        vertical-align: top;\n",
       "    }\n",
       "\n",
       "    .dataframe thead th {\n",
       "        text-align: right;\n",
       "    }\n",
       "</style>\n",
       "<table border=\"1\" class=\"dataframe\">\n",
       "  <thead>\n",
       "    <tr style=\"text-align: right;\">\n",
       "      <th></th>\n",
       "      <th>Play</th>\n",
       "      <th>ActSceneLine</th>\n",
       "      <th>Player</th>\n",
       "    </tr>\n",
       "  </thead>\n",
       "  <tbody>\n",
       "    <tr>\n",
       "      <th>3</th>\n",
       "      <td>Henry IV</td>\n",
       "      <td>1.1.1</td>\n",
       "      <td>KING HENRY IV</td>\n",
       "    </tr>\n",
       "    <tr>\n",
       "      <th>4</th>\n",
       "      <td>Henry IV</td>\n",
       "      <td>1.1.2</td>\n",
       "      <td>KING HENRY IV</td>\n",
       "    </tr>\n",
       "    <tr>\n",
       "      <th>5</th>\n",
       "      <td>Henry IV</td>\n",
       "      <td>1.1.3</td>\n",
       "      <td>KING HENRY IV</td>\n",
       "    </tr>\n",
       "    <tr>\n",
       "      <th>6</th>\n",
       "      <td>Henry IV</td>\n",
       "      <td>1.1.4</td>\n",
       "      <td>KING HENRY IV</td>\n",
       "    </tr>\n",
       "    <tr>\n",
       "      <th>7</th>\n",
       "      <td>Henry IV</td>\n",
       "      <td>1.1.5</td>\n",
       "      <td>KING HENRY IV</td>\n",
       "    </tr>\n",
       "    <tr>\n",
       "      <th>...</th>\n",
       "      <td>...</td>\n",
       "      <td>...</td>\n",
       "      <td>...</td>\n",
       "    </tr>\n",
       "    <tr>\n",
       "      <th>111390</th>\n",
       "      <td>A Winters Tale</td>\n",
       "      <td>5.3.179</td>\n",
       "      <td>LEONTES</td>\n",
       "    </tr>\n",
       "    <tr>\n",
       "      <th>111391</th>\n",
       "      <td>A Winters Tale</td>\n",
       "      <td>5.3.180</td>\n",
       "      <td>LEONTES</td>\n",
       "    </tr>\n",
       "    <tr>\n",
       "      <th>111392</th>\n",
       "      <td>A Winters Tale</td>\n",
       "      <td>5.3.181</td>\n",
       "      <td>LEONTES</td>\n",
       "    </tr>\n",
       "    <tr>\n",
       "      <th>111393</th>\n",
       "      <td>A Winters Tale</td>\n",
       "      <td>5.3.182</td>\n",
       "      <td>LEONTES</td>\n",
       "    </tr>\n",
       "    <tr>\n",
       "      <th>111394</th>\n",
       "      <td>A Winters Tale</td>\n",
       "      <td>5.3.183</td>\n",
       "      <td>LEONTES</td>\n",
       "    </tr>\n",
       "  </tbody>\n",
       "</table>\n",
       "<p>104991 rows × 3 columns</p>\n",
       "</div>"
      ],
      "text/plain": [
       "                  Play ActSceneLine         Player\n",
       "3             Henry IV        1.1.1  KING HENRY IV\n",
       "4             Henry IV        1.1.2  KING HENRY IV\n",
       "5             Henry IV        1.1.3  KING HENRY IV\n",
       "6             Henry IV        1.1.4  KING HENRY IV\n",
       "7             Henry IV        1.1.5  KING HENRY IV\n",
       "...                ...          ...            ...\n",
       "111390  A Winters Tale      5.3.179        LEONTES\n",
       "111391  A Winters Tale      5.3.180        LEONTES\n",
       "111392  A Winters Tale      5.3.181        LEONTES\n",
       "111393  A Winters Tale      5.3.182        LEONTES\n",
       "111394  A Winters Tale      5.3.183        LEONTES\n",
       "\n",
       "[104991 rows x 3 columns]"
      ]
     },
     "execution_count": 10,
     "metadata": {},
     "output_type": "execute_result"
    }
   ],
   "source": [
    "column_names = [\"Play\", \"ActSceneLine\", \"Player\"]\n",
    "columns = player_dataset.loc[:,column_names].dropna()\n",
    "columns = columns.drop_duplicates()\n",
    "columns.to_csv(\"../data/processed/subset-case-1.csv\")\n",
    "columns"
   ]
  },
  {
   "cell_type": "markdown",
   "metadata": {},
   "source": [
    "### Extracting the Features and Players"
   ]
  },
  {
   "cell_type": "code",
   "execution_count": 11,
   "metadata": {},
   "outputs": [
    {
     "data": {
      "text/html": [
       "<div>\n",
       "<style scoped>\n",
       "    .dataframe tbody tr th:only-of-type {\n",
       "        vertical-align: middle;\n",
       "    }\n",
       "\n",
       "    .dataframe tbody tr th {\n",
       "        vertical-align: top;\n",
       "    }\n",
       "\n",
       "    .dataframe thead th {\n",
       "        text-align: right;\n",
       "    }\n",
       "</style>\n",
       "<table border=\"1\" class=\"dataframe\">\n",
       "  <thead>\n",
       "    <tr style=\"text-align: right;\">\n",
       "      <th></th>\n",
       "      <th>Play</th>\n",
       "      <th>ActSceneLine</th>\n",
       "    </tr>\n",
       "  </thead>\n",
       "  <tbody>\n",
       "    <tr>\n",
       "      <th>3</th>\n",
       "      <td>Henry IV</td>\n",
       "      <td>1.1.1</td>\n",
       "    </tr>\n",
       "    <tr>\n",
       "      <th>4</th>\n",
       "      <td>Henry IV</td>\n",
       "      <td>1.1.2</td>\n",
       "    </tr>\n",
       "    <tr>\n",
       "      <th>5</th>\n",
       "      <td>Henry IV</td>\n",
       "      <td>1.1.3</td>\n",
       "    </tr>\n",
       "    <tr>\n",
       "      <th>6</th>\n",
       "      <td>Henry IV</td>\n",
       "      <td>1.1.4</td>\n",
       "    </tr>\n",
       "    <tr>\n",
       "      <th>7</th>\n",
       "      <td>Henry IV</td>\n",
       "      <td>1.1.5</td>\n",
       "    </tr>\n",
       "    <tr>\n",
       "      <th>...</th>\n",
       "      <td>...</td>\n",
       "      <td>...</td>\n",
       "    </tr>\n",
       "    <tr>\n",
       "      <th>111390</th>\n",
       "      <td>A Winters Tale</td>\n",
       "      <td>5.3.179</td>\n",
       "    </tr>\n",
       "    <tr>\n",
       "      <th>111391</th>\n",
       "      <td>A Winters Tale</td>\n",
       "      <td>5.3.180</td>\n",
       "    </tr>\n",
       "    <tr>\n",
       "      <th>111392</th>\n",
       "      <td>A Winters Tale</td>\n",
       "      <td>5.3.181</td>\n",
       "    </tr>\n",
       "    <tr>\n",
       "      <th>111393</th>\n",
       "      <td>A Winters Tale</td>\n",
       "      <td>5.3.182</td>\n",
       "    </tr>\n",
       "    <tr>\n",
       "      <th>111394</th>\n",
       "      <td>A Winters Tale</td>\n",
       "      <td>5.3.183</td>\n",
       "    </tr>\n",
       "  </tbody>\n",
       "</table>\n",
       "<p>104991 rows × 2 columns</p>\n",
       "</div>"
      ],
      "text/plain": [
       "                  Play ActSceneLine\n",
       "3             Henry IV        1.1.1\n",
       "4             Henry IV        1.1.2\n",
       "5             Henry IV        1.1.3\n",
       "6             Henry IV        1.1.4\n",
       "7             Henry IV        1.1.5\n",
       "...                ...          ...\n",
       "111390  A Winters Tale      5.3.179\n",
       "111391  A Winters Tale      5.3.180\n",
       "111392  A Winters Tale      5.3.181\n",
       "111393  A Winters Tale      5.3.182\n",
       "111394  A Winters Tale      5.3.183\n",
       "\n",
       "[104991 rows x 2 columns]"
      ]
     },
     "execution_count": 11,
     "metadata": {},
     "output_type": "execute_result"
    }
   ],
   "source": [
    "feature_names = column_names[:-1]\n",
    "features = columns.loc[:,feature_names]\n",
    "features"
   ]
  },
  {
   "cell_type": "code",
   "execution_count": 12,
   "metadata": {},
   "outputs": [
    {
     "data": {
      "text/plain": [
       "3         KING HENRY IV\n",
       "4         KING HENRY IV\n",
       "5         KING HENRY IV\n",
       "6         KING HENRY IV\n",
       "7         KING HENRY IV\n",
       "              ...      \n",
       "111390          LEONTES\n",
       "111391          LEONTES\n",
       "111392          LEONTES\n",
       "111393          LEONTES\n",
       "111394          LEONTES\n",
       "Name: Player, Length: 104991, dtype: object"
      ]
     },
     "execution_count": 12,
     "metadata": {},
     "output_type": "execute_result"
    }
   ],
   "source": [
    "players_name = column_names[-1]\n",
    "players = columns.loc[:,players_name]\n",
    "players"
   ]
  },
  {
   "cell_type": "markdown",
   "metadata": {},
   "source": [
    "### Label Encoding"
   ]
  },
  {
   "cell_type": "code",
   "execution_count": 13,
   "metadata": {},
   "outputs": [
    {
     "data": {
      "text/html": [
       "<div>\n",
       "<style scoped>\n",
       "    .dataframe tbody tr th:only-of-type {\n",
       "        vertical-align: middle;\n",
       "    }\n",
       "\n",
       "    .dataframe tbody tr th {\n",
       "        vertical-align: top;\n",
       "    }\n",
       "\n",
       "    .dataframe thead th {\n",
       "        text-align: right;\n",
       "    }\n",
       "</style>\n",
       "<table border=\"1\" class=\"dataframe\">\n",
       "  <thead>\n",
       "    <tr style=\"text-align: right;\">\n",
       "      <th></th>\n",
       "      <th>Play</th>\n",
       "      <th>ActSceneLine</th>\n",
       "    </tr>\n",
       "  </thead>\n",
       "  <tbody>\n",
       "    <tr>\n",
       "      <th>3</th>\n",
       "      <td>9</td>\n",
       "      <td>324</td>\n",
       "    </tr>\n",
       "    <tr>\n",
       "      <th>4</th>\n",
       "      <td>9</td>\n",
       "      <td>435</td>\n",
       "    </tr>\n",
       "    <tr>\n",
       "      <th>5</th>\n",
       "      <td>9</td>\n",
       "      <td>546</td>\n",
       "    </tr>\n",
       "    <tr>\n",
       "      <th>6</th>\n",
       "      <td>9</td>\n",
       "      <td>657</td>\n",
       "    </tr>\n",
       "    <tr>\n",
       "      <th>7</th>\n",
       "      <td>9</td>\n",
       "      <td>768</td>\n",
       "    </tr>\n",
       "    <tr>\n",
       "      <th>...</th>\n",
       "      <td>...</td>\n",
       "      <td>...</td>\n",
       "    </tr>\n",
       "    <tr>\n",
       "      <th>111390</th>\n",
       "      <td>2</td>\n",
       "      <td>14601</td>\n",
       "    </tr>\n",
       "    <tr>\n",
       "      <th>111391</th>\n",
       "      <td>2</td>\n",
       "      <td>14603</td>\n",
       "    </tr>\n",
       "    <tr>\n",
       "      <th>111392</th>\n",
       "      <td>2</td>\n",
       "      <td>14604</td>\n",
       "    </tr>\n",
       "    <tr>\n",
       "      <th>111393</th>\n",
       "      <td>2</td>\n",
       "      <td>14605</td>\n",
       "    </tr>\n",
       "    <tr>\n",
       "      <th>111394</th>\n",
       "      <td>2</td>\n",
       "      <td>14606</td>\n",
       "    </tr>\n",
       "  </tbody>\n",
       "</table>\n",
       "<p>104991 rows × 2 columns</p>\n",
       "</div>"
      ],
      "text/plain": [
       "        Play  ActSceneLine\n",
       "3          9           324\n",
       "4          9           435\n",
       "5          9           546\n",
       "6          9           657\n",
       "7          9           768\n",
       "...      ...           ...\n",
       "111390     2         14601\n",
       "111391     2         14603\n",
       "111392     2         14604\n",
       "111393     2         14605\n",
       "111394     2         14606\n",
       "\n",
       "[104991 rows x 2 columns]"
      ]
     },
     "execution_count": 13,
     "metadata": {},
     "output_type": "execute_result"
    }
   ],
   "source": [
    "encoder = preprocessing.LabelEncoder()\n",
    "for f in feature_names:\n",
    "    features[f] = encoder.fit_transform(features[f])\n",
    "features"
   ]
  },
  {
   "cell_type": "code",
   "execution_count": 14,
   "metadata": {},
   "outputs": [
    {
     "data": {
      "text/plain": [
       "array([457, 457, 457, ..., 494, 494, 494])"
      ]
     },
     "execution_count": 14,
     "metadata": {},
     "output_type": "execute_result"
    }
   ],
   "source": [
    "players = encoder.fit_transform(players)\n",
    "players"
   ]
  },
  {
   "cell_type": "markdown",
   "metadata": {},
   "source": [
    "### Creating Train and Test Sets"
   ]
  },
  {
   "cell_type": "code",
   "execution_count": 15,
   "metadata": {},
   "outputs": [],
   "source": [
    "features_train, features_test, players_train, players_test = train_test_split(features, players, test_size=0.50, random_state=0, shuffle=True)"
   ]
  },
  {
   "cell_type": "markdown",
   "metadata": {},
   "source": [
    "### Performing Classification"
   ]
  },
  {
   "cell_type": "code",
   "execution_count": 16,
   "metadata": {},
   "outputs": [
    {
     "name": "stdout",
     "output_type": "stream",
     "text": [
      "Naive Bayes Accuracy: 0.23\n",
      "Decision Tree Accuracy: 0.61\n",
      "Random Forest Accuracy: 0.18\n",
      "Neural Network Accuracy: 0.10\n"
     ]
    }
   ],
   "source": [
    "players_pred = class_NaiveBayes.fit(features_train, players_train).predict(features_test)\n",
    "print(\"Naive Bayes Accuracy: {:.2f}\".format(accuracy_score(players_test, players_pred)))\n",
    "\n",
    "players_pred = class_DecisionTree.fit(features_train, players_train).predict(features_test)\n",
    "print(\"Decision Tree Accuracy: {:.2f}\".format(accuracy_score(players_test, players_pred)))\n",
    "\n",
    "players_pred = class_RandomForest.fit(features_train, players_train).predict(features_test)\n",
    "print(\"Random Forest Accuracy: {:.2f}\".format(accuracy_score(players_test, players_pred)))\n",
    "\n",
    "players_pred = class_NeuralNetwork.fit(features_train, players_train).predict(features_test)\n",
    "print(\"Neural Network Accuracy: {:.2f}\".format(accuracy_score(players_test, players_pred)))"
   ]
  },
  {
   "cell_type": "markdown",
   "metadata": {},
   "source": [
    "Similar to the base case, the Decision Tree classifier also has the best performance. In fact, the performance across all four classifiers remains relatively consistent. Based on this, it can be seen that the Play and ActSceneLine features alone can be used to largely represent the entire dataset."
   ]
  },
  {
   "cell_type": "markdown",
   "metadata": {},
   "source": [
    "## Subset Case 2 - PlayerLine + PlayerLinenumber\n",
    "\n",
    "In the second subset, I only use the Play and ActSceneLine features from the original dataset. Once again, I use the same general steps for performing the classfication.\n",
    "\n",
    "### Reading the Dataset"
   ]
  },
  {
   "cell_type": "markdown",
   "metadata": {},
   "source": [
    "column_names = [\"PlayerLine\", \"PlayerLinenumber\", \"Player\"]\n",
    "columns = player_dataset.loc[:,column_names].dropna()\n",
    "columns = columns.drop_duplicates()\n",
    "columns.to_csv(\"../data/processed/subset-case-2.csv\")\n",
    "columns"
   ]
  },
  {
   "cell_type": "markdown",
   "metadata": {},
   "source": [
    "### Extracting the Features and Players"
   ]
  },
  {
   "cell_type": "code",
   "execution_count": 17,
   "metadata": {},
   "outputs": [
    {
     "data": {
      "text/html": [
       "<div>\n",
       "<style scoped>\n",
       "    .dataframe tbody tr th:only-of-type {\n",
       "        vertical-align: middle;\n",
       "    }\n",
       "\n",
       "    .dataframe tbody tr th {\n",
       "        vertical-align: top;\n",
       "    }\n",
       "\n",
       "    .dataframe thead th {\n",
       "        text-align: right;\n",
       "    }\n",
       "</style>\n",
       "<table border=\"1\" class=\"dataframe\">\n",
       "  <thead>\n",
       "    <tr style=\"text-align: right;\">\n",
       "      <th></th>\n",
       "      <th>Play</th>\n",
       "      <th>ActSceneLine</th>\n",
       "    </tr>\n",
       "  </thead>\n",
       "  <tbody>\n",
       "    <tr>\n",
       "      <th>3</th>\n",
       "      <td>Henry IV</td>\n",
       "      <td>1.1.1</td>\n",
       "    </tr>\n",
       "    <tr>\n",
       "      <th>4</th>\n",
       "      <td>Henry IV</td>\n",
       "      <td>1.1.2</td>\n",
       "    </tr>\n",
       "    <tr>\n",
       "      <th>5</th>\n",
       "      <td>Henry IV</td>\n",
       "      <td>1.1.3</td>\n",
       "    </tr>\n",
       "    <tr>\n",
       "      <th>6</th>\n",
       "      <td>Henry IV</td>\n",
       "      <td>1.1.4</td>\n",
       "    </tr>\n",
       "    <tr>\n",
       "      <th>7</th>\n",
       "      <td>Henry IV</td>\n",
       "      <td>1.1.5</td>\n",
       "    </tr>\n",
       "    <tr>\n",
       "      <th>...</th>\n",
       "      <td>...</td>\n",
       "      <td>...</td>\n",
       "    </tr>\n",
       "    <tr>\n",
       "      <th>111390</th>\n",
       "      <td>A Winters Tale</td>\n",
       "      <td>5.3.179</td>\n",
       "    </tr>\n",
       "    <tr>\n",
       "      <th>111391</th>\n",
       "      <td>A Winters Tale</td>\n",
       "      <td>5.3.180</td>\n",
       "    </tr>\n",
       "    <tr>\n",
       "      <th>111392</th>\n",
       "      <td>A Winters Tale</td>\n",
       "      <td>5.3.181</td>\n",
       "    </tr>\n",
       "    <tr>\n",
       "      <th>111393</th>\n",
       "      <td>A Winters Tale</td>\n",
       "      <td>5.3.182</td>\n",
       "    </tr>\n",
       "    <tr>\n",
       "      <th>111394</th>\n",
       "      <td>A Winters Tale</td>\n",
       "      <td>5.3.183</td>\n",
       "    </tr>\n",
       "  </tbody>\n",
       "</table>\n",
       "<p>104991 rows × 2 columns</p>\n",
       "</div>"
      ],
      "text/plain": [
       "                  Play ActSceneLine\n",
       "3             Henry IV        1.1.1\n",
       "4             Henry IV        1.1.2\n",
       "5             Henry IV        1.1.3\n",
       "6             Henry IV        1.1.4\n",
       "7             Henry IV        1.1.5\n",
       "...                ...          ...\n",
       "111390  A Winters Tale      5.3.179\n",
       "111391  A Winters Tale      5.3.180\n",
       "111392  A Winters Tale      5.3.181\n",
       "111393  A Winters Tale      5.3.182\n",
       "111394  A Winters Tale      5.3.183\n",
       "\n",
       "[104991 rows x 2 columns]"
      ]
     },
     "execution_count": 17,
     "metadata": {},
     "output_type": "execute_result"
    }
   ],
   "source": [
    "feature_names = column_names[:-1]\n",
    "features = columns.loc[:,feature_names]\n",
    "features"
   ]
  },
  {
   "cell_type": "code",
   "execution_count": 18,
   "metadata": {},
   "outputs": [
    {
     "data": {
      "text/plain": [
       "3         KING HENRY IV\n",
       "4         KING HENRY IV\n",
       "5         KING HENRY IV\n",
       "6         KING HENRY IV\n",
       "7         KING HENRY IV\n",
       "              ...      \n",
       "111390          LEONTES\n",
       "111391          LEONTES\n",
       "111392          LEONTES\n",
       "111393          LEONTES\n",
       "111394          LEONTES\n",
       "Name: Player, Length: 104991, dtype: object"
      ]
     },
     "execution_count": 18,
     "metadata": {},
     "output_type": "execute_result"
    }
   ],
   "source": [
    "players_name = column_names[-1]\n",
    "players = columns.loc[:,players_name]\n",
    "players"
   ]
  },
  {
   "cell_type": "markdown",
   "metadata": {},
   "source": [
    "### Label Encoding"
   ]
  },
  {
   "cell_type": "code",
   "execution_count": 19,
   "metadata": {},
   "outputs": [
    {
     "data": {
      "text/html": [
       "<div>\n",
       "<style scoped>\n",
       "    .dataframe tbody tr th:only-of-type {\n",
       "        vertical-align: middle;\n",
       "    }\n",
       "\n",
       "    .dataframe tbody tr th {\n",
       "        vertical-align: top;\n",
       "    }\n",
       "\n",
       "    .dataframe thead th {\n",
       "        text-align: right;\n",
       "    }\n",
       "</style>\n",
       "<table border=\"1\" class=\"dataframe\">\n",
       "  <thead>\n",
       "    <tr style=\"text-align: right;\">\n",
       "      <th></th>\n",
       "      <th>Play</th>\n",
       "      <th>ActSceneLine</th>\n",
       "    </tr>\n",
       "  </thead>\n",
       "  <tbody>\n",
       "    <tr>\n",
       "      <th>3</th>\n",
       "      <td>9</td>\n",
       "      <td>324</td>\n",
       "    </tr>\n",
       "    <tr>\n",
       "      <th>4</th>\n",
       "      <td>9</td>\n",
       "      <td>435</td>\n",
       "    </tr>\n",
       "    <tr>\n",
       "      <th>5</th>\n",
       "      <td>9</td>\n",
       "      <td>546</td>\n",
       "    </tr>\n",
       "    <tr>\n",
       "      <th>6</th>\n",
       "      <td>9</td>\n",
       "      <td>657</td>\n",
       "    </tr>\n",
       "    <tr>\n",
       "      <th>7</th>\n",
       "      <td>9</td>\n",
       "      <td>768</td>\n",
       "    </tr>\n",
       "    <tr>\n",
       "      <th>...</th>\n",
       "      <td>...</td>\n",
       "      <td>...</td>\n",
       "    </tr>\n",
       "    <tr>\n",
       "      <th>111390</th>\n",
       "      <td>2</td>\n",
       "      <td>14601</td>\n",
       "    </tr>\n",
       "    <tr>\n",
       "      <th>111391</th>\n",
       "      <td>2</td>\n",
       "      <td>14603</td>\n",
       "    </tr>\n",
       "    <tr>\n",
       "      <th>111392</th>\n",
       "      <td>2</td>\n",
       "      <td>14604</td>\n",
       "    </tr>\n",
       "    <tr>\n",
       "      <th>111393</th>\n",
       "      <td>2</td>\n",
       "      <td>14605</td>\n",
       "    </tr>\n",
       "    <tr>\n",
       "      <th>111394</th>\n",
       "      <td>2</td>\n",
       "      <td>14606</td>\n",
       "    </tr>\n",
       "  </tbody>\n",
       "</table>\n",
       "<p>104991 rows × 2 columns</p>\n",
       "</div>"
      ],
      "text/plain": [
       "        Play  ActSceneLine\n",
       "3          9           324\n",
       "4          9           435\n",
       "5          9           546\n",
       "6          9           657\n",
       "7          9           768\n",
       "...      ...           ...\n",
       "111390     2         14601\n",
       "111391     2         14603\n",
       "111392     2         14604\n",
       "111393     2         14605\n",
       "111394     2         14606\n",
       "\n",
       "[104991 rows x 2 columns]"
      ]
     },
     "execution_count": 19,
     "metadata": {},
     "output_type": "execute_result"
    }
   ],
   "source": [
    "encoder = preprocessing.LabelEncoder()\n",
    "for f in feature_names:\n",
    "    features[f] = encoder.fit_transform(features[f])\n",
    "features"
   ]
  },
  {
   "cell_type": "code",
   "execution_count": 20,
   "metadata": {},
   "outputs": [
    {
     "data": {
      "text/plain": [
       "array([457, 457, 457, ..., 494, 494, 494])"
      ]
     },
     "execution_count": 20,
     "metadata": {},
     "output_type": "execute_result"
    }
   ],
   "source": [
    "players = encoder.fit_transform(players)\n",
    "players"
   ]
  },
  {
   "cell_type": "markdown",
   "metadata": {},
   "source": [
    "### Creating Train and Test Sets"
   ]
  },
  {
   "cell_type": "code",
   "execution_count": 21,
   "metadata": {},
   "outputs": [],
   "source": [
    "features_train, features_test, players_train, players_test = train_test_split(features, players, test_size=0.50, random_state=0, shuffle=True)"
   ]
  },
  {
   "cell_type": "markdown",
   "metadata": {},
   "source": [
    "### Performing Classification"
   ]
  },
  {
   "cell_type": "code",
   "execution_count": 22,
   "metadata": {},
   "outputs": [
    {
     "name": "stdout",
     "output_type": "stream",
     "text": [
      "Naive Bayes Accuracy: 0.23\n",
      "Decision Tree Accuracy: 0.61\n",
      "Random Forest Accuracy: 0.18\n",
      "Neural Network Accuracy: 0.13\n"
     ]
    }
   ],
   "source": [
    "players_pred = class_NaiveBayes.fit(features_train, players_train).predict(features_test)\n",
    "print(\"Naive Bayes Accuracy: {:.2f}\".format(accuracy_score(players_test, players_pred)))\n",
    "\n",
    "players_pred = class_DecisionTree.fit(features_train, players_train).predict(features_test)\n",
    "print(\"Decision Tree Accuracy: {:.2f}\".format(accuracy_score(players_test, players_pred)))\n",
    "\n",
    "players_pred = class_RandomForest.fit(features_train, players_train).predict(features_test)\n",
    "print(\"Random Forest Accuracy: {:.2f}\".format(accuracy_score(players_test, players_pred)))\n",
    "\n",
    "players_pred = class_NeuralNetwork.fit(features_train, players_train).predict(features_test)\n",
    "print(\"Neural Network Accuracy: {:.2f}\".format(accuracy_score(players_test, players_pred)))"
   ]
  },
  {
   "cell_type": "markdown",
   "metadata": {},
   "source": [
    "In this case, the performance of all four classifiers significantly decreases down to 4% in the best case (Decision Tree and Random Forest). As such, unlike the first subset case, the features used for this subset can't be used to accurately represent the entire dataset."
   ]
  },
  {
   "cell_type": "markdown",
   "metadata": {},
   "source": [
    "## Results"
   ]
  },
  {
   "cell_type": "markdown",
   "metadata": {},
   "source": [
    "As can be seen by the accuracy performance of the classification models across all test cases, the features used can have a significant impact on the end results. Namely, the first feature subset (Play+ActSceneLine) was able to achieve similar performance to the entire dataset, but the second feature subset (PlayerLine+PlayerLinenumber) instead saw much worse performance."
   ]
  }
 ],
 "metadata": {
  "kernelspec": {
   "display_name": "Python 3",
   "language": "python",
   "name": "python3"
  },
  "language_info": {
   "codemirror_mode": {
    "name": "ipython",
    "version": 3
   },
   "file_extension": ".py",
   "mimetype": "text/x-python",
   "name": "python",
   "nbconvert_exporter": "python",
   "pygments_lexer": "ipython3",
   "version": "3.7.6"
  }
 },
 "nbformat": 4,
 "nbformat_minor": 4
}
